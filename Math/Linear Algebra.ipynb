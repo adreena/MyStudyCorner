{
 "cells": [
  {
   "cell_type": "markdown",
   "metadata": {},
   "source": [
    "### Fundamentals\n",
    "\n",
    "#### Matrix \n",
    "- matrix is a way of represetning linear transformation\n",
    "- det(A) shows how much we grow space when area tranfroms\n",
    "- matrix is used for solving simultenous linear equations as Ax=b, linear equations do not always have an answer unless \n",
    "  - A has an inverse A_inv.Ax = A_inv.b -> x = A_inv.b\n",
    "  - if det(A) is 0 meaning that basis vectors of A are not linearnly independent, A has no inverse\n",
    "- row echelon form means all cells below diagonal are 0 \n",
    "- orthogonal matrix: A.A_transpose = I\n",
    "- symmetric: A == A_transpose\n",
    "- helpful libraries:\n",
    "  -  np.linalg.det()\n",
    "  -  np.linalg.inv()\n",
    "  \n",
    "  ![alt bandit](images/matrix.mov =250x250)\n",
    "  <img src=\"images/matrix.mov.\" data-canonical-src=\"https://gyazo.com/eb5c5741b6a9a16c692170a41a49c858.png\" width=\"200\" height=\"400\" />\n",
    "  \n",
    "  \n",
    "### Basis Vector & Eigen Value Decomposition\n",
    "- basis vectors define matrix span and are linearly independent of each other\n",
    "- in orthogonal matrix basis vectors are orthonomral i.e. all basis vectors are orthogonal to each other, it's very helpful to work with orthogonal matrices in math operations as its transpose is its inverse. \n",
    "- eigen means characteristic, and eigen vectors define spans of a matrix. Eigen vectors span do not change during matrix transformation and only their direction/scale is affected. \n",
    "- decomposing a matrix into eigen vectors and eigen values helps with multiplication operation. A = Q.D.Q_inv\n",
    "- D is the diagonal matrix of eigne values and Q is matrix of all eigne Vectors and it's orthogonal, A^n = Q.D^n.Q_inv\n",
    "- not every matrix has eigne decompostion\n",
    "- helpful libraries:\n",
    "   - eVals, eVecs = np.linalg.eig(A)"
   ]
  },
  {
   "cell_type": "code",
   "execution_count": null,
   "metadata": {},
   "outputs": [],
   "source": []
  }
 ],
 "metadata": {
  "kernelspec": {
   "display_name": "Python 3",
   "language": "python",
   "name": "python3"
  },
  "language_info": {
   "codemirror_mode": {
    "name": "ipython",
    "version": 3
   },
   "file_extension": ".py",
   "mimetype": "text/x-python",
   "name": "python",
   "nbconvert_exporter": "python",
   "pygments_lexer": "ipython3",
   "version": "3.7.0"
  }
 },
 "nbformat": 4,
 "nbformat_minor": 4
}
