{
 "cells": [
  {
   "cell_type": "markdown",
   "metadata": {},
   "source": [
    "![alt bandit](../images/policy_iteration.png)\n",
    "\n",
    "\n",
    "### Policy Evaluation (Prediction)\n",
    "\n",
    "<div dir=\"rtl\">\n",
    "به مرحله محاسبه state value function برای یک policy، policy evaluation گفته میشه، که تخمین expected discounted future return برای هر state هست. Prediction\n",
    "</div>\n",
    "\n",
    "### Policy Iteration (Control)\n",
    "\n",
    "<div dir=\"rtl\">\n",
    "در مقابل prediction ما میخواهیم به صورت متناوب policy رو بهتر کنیم و این برمیگرده به تخمین هایی که state-value function انجام میده. Control\n",
    "    \n",
    "</div>"
   ]
  },
  {
   "cell_type": "code",
   "execution_count": 62,
   "metadata": {},
   "outputs": [
    {
     "name": "stdout",
     "output_type": "stream",
     "text": [
      "iteration:50, max_diff:0.08225065631786421\n",
      "iteration:100, max_diff:0.005347386022364731\n",
      "iteration:150, max_diff:0.0003476511739428645\n",
      "Optimal Q\n",
      "[  0.         -13.99893866 -19.99842728 -21.99824003]\n",
      "[-13.99893866 -17.99861452 -19.9984378  -19.99842728]\n",
      "[-19.99842728 -19.9984378  -17.99861452 -13.99893866]\n",
      "[-21.99824003 -19.99842728 -13.99893866   0.        ]\n"
     ]
    }
   ],
   "source": [
    "# Grid World\n",
    "import numpy as np\n",
    "discount = 1.\n",
    "world_size = 4\n",
    "actions = [[0,1], [1,0], [0,-1], [-1,0]]\n",
    "\n",
    "action_prob = 0.25\n",
    "terminal_states = [[0,0], [world_size-1, world_size-1]]\n",
    "\n",
    "def step(state, action, world_size):\n",
    "    next_state = [state[0]+ action[0], state[1]+action[1]]\n",
    "    if state in terminal_states:\n",
    "        return state, 0\n",
    "    if 0<=next_state[0]<world_size and 0<=next_state[1]<world_size:\n",
    "        return next_state, -1\n",
    "    else:\n",
    "        return state, -1\n",
    "    \n",
    "itr = 0\n",
    "new_Q = np.zeros((world_size, world_size))\n",
    "\n",
    "# Policy Evaluation\n",
    "while True:\n",
    "    old_Q = new_Q.copy()\n",
    "    for i in range(world_size):\n",
    "        for j in range(world_size):\n",
    "            value = 0\n",
    "            state = [i,j]\n",
    "            for action in actions:\n",
    "                next_state, reward = step(state, action, world_size) \n",
    "                value += action_prob*( reward + discount*old_Q[next_state[0],next_state[1]])\n",
    "            new_Q[i,j] = value\n",
    "    diff = abs(old_Q-new_Q).max()\n",
    "    if diff < 1e-4:\n",
    "        break\n",
    "    itr+=1\n",
    "    if itr%50 == 0:\n",
    "        print('iteration:{}, max_diff:{}'.format(itr, diff))\n",
    "\n",
    "print('Optimal Q')\n",
    "\n",
    "for r in new_Q:\n",
    "    print(r)"
   ]
  },
  {
   "cell_type": "code",
   "execution_count": 108,
   "metadata": {},
   "outputs": [
    {
     "data": {
      "text/plain": [
       "<matplotlib.collections.PathCollection at 0x1265ba9d0>"
      ]
     },
     "execution_count": 108,
     "metadata": {},
     "output_type": "execute_result"
    },
    {
     "data": {
      "image/png": "[encoded data removed]",
      "text/plain": [
       "<Figure size 432x288 with 2 Axes>"
      ]
     },
     "metadata": {
      "needs_background": "light"
     },
     "output_type": "display_data"
    }
   ],
   "source": [
    "#Gambler\n",
    "import matplotlib.pyplot as plt\n",
    "goal = 100\n",
    "V = np.zeros(goal+1)\n",
    "V[goal] =1\n",
    "states = np.arange(goal+1)\n",
    "value_estimates = []\n",
    "head_prob=0.4\n",
    "\n",
    "# Value Iteration\n",
    "while True:\n",
    "    old_V = V.copy()\n",
    "    value_estimates.append(old_V)\n",
    "    for state in states[1:]:\n",
    "        actions  = np.arange(min(state, goal-state)+1)\n",
    "        action_values = []\n",
    "        for action in actions:\n",
    "            action_values.append(head_prob*old_V[state+action] + (1-head_prob)*old_V[state-action])\n",
    "        V[state] = np.max(action_values)\n",
    "    max_diff = abs(V-old_V).max()\n",
    "    if max_diff < 1e-9:\n",
    "        value_estimates.append(V)\n",
    "        break\n",
    "\n",
    "# optimal Policy using optimal V\n",
    "policy = np.zeros(goal+1)\n",
    "for state in states[1:]:\n",
    "    actions = np.arange(min(state, goal-state)+1)\n",
    "    action_values=[]\n",
    "    for action in actions:\n",
    "        action_values.append(head_prob*V[state+action] + (1-head_prob)*V[state-action])\n",
    "    policy[state] = actions[np.argmax(action_values)]\n",
    "\n",
    "plt.subplot(2,1,1)\n",
    "for i, state_value in enumerate(value_estimates):\n",
    "    plt.plot(state_value, label=f\"{i}\")\n",
    "plt.subplot(2,1,2)\n",
    "plt.scatter(states,policy)\n"
   ]
  },
  {
   "cell_type": "code",
   "execution_count": null,
   "metadata": {},
   "outputs": [],
   "source": []
  }
 ],
 "metadata": {
  "kernelspec": {
   "display_name": "Python 3",
   "language": "python",
   "name": "python3"
  },
  "language_info": {
   "codemirror_mode": {
    "name": "ipython",
    "version": 3
   },
   "file_extension": ".py",
   "mimetype": "text/x-python",
   "name": "python",
   "nbconvert_exporter": "python",
   "pygments_lexer": "ipython3",
   "version": "3.7.7"
  }
 },
 "nbformat": 4,
 "nbformat_minor": 4
}
