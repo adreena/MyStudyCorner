{
 "cells": [
  {
   "cell_type": "markdown",
   "metadata": {},
   "source": [
    "![alt bandit](../images/policy_iteration.png)\n",
    "\n",
    "\n",
    "### Policy Evaluation (Prediction)\n",
    "\n",
    "<div dir=\"rtl\">\n",
    "به مرحله محاسبه state value function برای یک policy، policy evaluation گفته میشه، که تخمین expected discounted future return برای هر state هست. Prediction\n",
    "</div>\n",
    "\n",
    "### Policy Iteration (Control)\n",
    "\n",
    "<div dir=\"rtl\">\n",
    "در مقابل prediction ما میخواهیم به صورت متناوب policy رو بهتر کنیم و این برمیگرده به تخمین هایی که state-value function انجام میده. Control\n",
    "    \n",
    "</div>"
   ]
  },
  {
   "cell_type": "code",
   "execution_count": null,
   "metadata": {},
   "outputs": [],
   "source": []
  }
 ],
 "metadata": {
  "kernelspec": {
   "display_name": "Python 3",
   "language": "python",
   "name": "python3"
  },
  "language_info": {
   "codemirror_mode": {
    "name": "ipython",
    "version": 3
   },
   "file_extension": ".py",
   "mimetype": "text/x-python",
   "name": "python",
   "nbconvert_exporter": "python",
   "pygments_lexer": "ipython3",
   "version": "3.7.7"
  }
 },
 "nbformat": 4,
 "nbformat_minor": 4
}
