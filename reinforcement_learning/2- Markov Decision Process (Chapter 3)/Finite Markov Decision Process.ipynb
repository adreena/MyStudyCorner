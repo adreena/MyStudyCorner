{
 "cells": [
  {
   "cell_type": "markdown",
   "metadata": {},
   "source": [
    "### MDP\n",
    "![alt bandit](../images/mdp.png)\n",
    "\n",
    "<div dir=\"rtl\">\n",
    "    محیط هایی مثل bandit برای تعریف خیلی از مسایل کافی نیستن و زمانیکه action بر محیط تاثیر داشته باشه  یا state transition  صورت بگیره احتیاج داریم در تصمیم گیری های agent احتمالات بیشتری رو در نظر بگیریم چرن انتخاب یک action همیشه optimal نیست\n",
    "برای حل این نوع از مسایل MDP تعریف میکنیم که اصطلاحا formalizing problem as MDP گفته میشه و شامل \n",
    "\n",
    "- rewards\n",
    "- actions\n",
    "- states\n",
    "</div>\n",
    "    \n",
    "<div dir=\"rtl\">  \n",
    "agent در زمان t با انتخاب action_t در state_t یک reward_t+1 دریافت میکنه و به state_t+1 وارد میشه و محیط وارد مرحله متفاوتی میشه که انتخاب action قبل ممکنه بهترین انتخاب نباشه و احتیاج به محاسبات جدیدی داره تا با کمک سیگنال reward تصمیمات خودش رو update کنه.\n",
    "    برای هر state میتونیم با انتخاب action های مختلف به state های مختلفی وارد بشیم و از اونجا که محیط تصادفی non-stationary هست باید احتمالات رو هم در نظر بگیریم، تعریف MDP در واقع همون state machine هست که برای رفتن به state ها احتمال های مختلفی داریم state-transition probability\n",
    "</div>\n",
    "    \n",
    "<div dir=\"ltr\">  \n",
    "p(s_t+1, r_t+1 | s_t, a_t)\n",
    "</div>\n",
    "    \n",
    "![alt bandit](../images/mdp_example.png)\n",
    "    \n",
    "\n",
    "\n",
    "<div dir=\"rtl\"> در این محیط های sequential و dynamic که با MDP تعریف میشن  یک خصوصیت مشترک داریم به نام Markov property، به این معنی که agent احتیاج به دونستن همه اتفاقات گذشته و تصمیماتی که از آغاز تا الآن داشته نداره و تنها دونستن ۱ time-step قبل کافیه\n",
    "</div>\n",
    "    \n",
    "### Goal and Reward\n",
    "\n",
    "<div dir=\"rtl\">\n",
    "هدف اصلی همچنان جستجو برای دریافت بالاترین expected return در محیط هست، و تنها توجه کردن به immediate reward کافی نیست و باید عواقب هر action رو در طولانی مدت future reward در نظر بگیریم و با کمک gradient update به سمتی حرکت کنیم که مقدار loss کمتر و در نتیجه به optimal policy نزدیک بشیم\n",
    "</div>\n",
    "<div dir=\"rtl\">\n",
    "محیط ها رو میتونیم به ۲ دسته کلی تقسیم کنیم episodic و continuous که تفاوت عمده اونها در داشتن terminal state هست. محیط episodic دارای یک سری independent episode هست که بعد از اتمام هرepisode محیط و agent reset میشن به حالت اولیه. محیط continuous ولی قابلیت شکسته شدن به epiode هارو نداره.\n",
    "ولی برای محیطی که هیچوقت terminate نمیشه چجوری expected future return تعریف میشه؟ این مشکل رو با یک تعریف جدید دیگه به نام discount factor (gamma) حل میکنیم. ایده اصلی اینه که ما با یه ضریبی تاثیر time-step های آینده رو کنترل میکنیم به این صورت که reward های زمان های نزدیکتر مهمتر باشن تا زمان های خیلی دور در آینده به این expected discounted return . میشه اثبات کرد که برای gamma کمتر از ۱ این return متنهایی finite  هست\n",
    "</div>\n",
    "\n",
    "<div dir=\"ltr\">\n",
    "G_t = 1/(1-gamma)\n",
    "</div>\n",
    "\n",
    "<div dir=\"rtl\">\n",
    " در خیلی از محیط های شبیه سازی شده max-step تعریف میشه که با کمک اون میشه agent رو وادار کرد تصمیمات بهتری در زمان محدود بگیره\n",
    "</div>\n",
    "\n",
    "\n"
   ]
  },
  {
   "cell_type": "code",
   "execution_count": null,
   "metadata": {},
   "outputs": [],
   "source": []
  }
 ],
 "metadata": {
  "kernelspec": {
   "display_name": "Python 3",
   "language": "python",
   "name": "python3"
  },
  "language_info": {
   "codemirror_mode": {
    "name": "ipython",
    "version": 3
   },
   "file_extension": ".py",
   "mimetype": "text/x-python",
   "name": "python",
   "nbconvert_exporter": "python",
   "pygments_lexer": "ipython3",
   "version": "3.7.7"
  }
 },
 "nbformat": 4,
 "nbformat_minor": 2
}
